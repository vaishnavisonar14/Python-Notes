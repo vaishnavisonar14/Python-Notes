{
 "cells": [
  {
   "cell_type": "markdown",
   "id": "ededaf3c-8ce3-445c-993a-b4ebaf9715b1",
   "metadata": {},
   "source": [
    "#  Python Programming\n"
   ]
  },
  {
   "cell_type": "markdown",
   "id": "e115b6e0-7c98-4683-af4b-f51f79862cce",
   "metadata": {},
   "source": [
    "# Introduction to Python\n",
    "\n",
    "Python is a high-level, interpreted, general-purpose programming language.\n",
    "It was created by **Guido van Rossum** and released in **1991**.\n",
    "It emphasizes code readability and has a simple syntax.\n",
    "\n",
    "## Features of Python\n",
    "- Easy to learn and use\n",
    "- Interpreted language\n",
    "- Dynamically typed\n",
    "- Extensive standard library\n",
    "- Open-source and community-supported\n",
    "- Portable and platform-independent\n",
    "- Supports OOP (Object-Oriented Programming)\n"
   ]
  },
  {
   "cell_type": "markdown",
   "id": "59ec10d3-c936-48d2-8470-2cd5858bd5ce",
   "metadata": {},
   "source": [
    "\n",
    "\n",
    "## Why Python is Required for Data Science?\n",
    "\n",
    "Python has become the most popular language in **Data Science** because:\n",
    "- It has powerful libraries like **NumPy**, **Pandas**, **Matplotlib**, **Seaborn**, **Scikit-learn**, **TensorFlow**, etc.\n",
    "- It handles **data cleaning, manipulation, analysis**, and **visualization** easily.\n",
    "- It is beginner-friendly and has a huge community and documentation.\n",
    "- It integrates well with **Jupyter Notebooks** for interactive analysis and reports.\n",
    "\n",
    "---\n",
    "\n",
    "## Where Can We Use Python?\n",
    "\n",
    "Python is used in many domains:\n",
    "- **Web Development** → (Django, Flask)\n",
    "- **Data Science & Analytics** → (Pandas, NumPy, SciPy)\n",
    "- **Machine Learning & AI** → (TensorFlow, Scikit-learn)\n",
    "- **Automation / Scripting** → (Selenium, OS module)\n",
    "- **Desktop Applications** → (Tkinter, PyQT)\n",
    "- **Game Development** → (Pygame)\n",
    "- **IoT and Embedded Systems**\n",
    "- **Cybersecurity and Networking**\n",
    "\n",
    "---\n",
    "\n",
    "## Features of Python\n",
    "\n",
    "- **Simple Syntax**: Easy to read and write.\n",
    "- **Open Source**: Free and supported by community.\n",
    "- **Interpreted Language**: Executes line-by-line.\n",
    "- **Cross-Platform**: Works on Windows, Linux, macOS.\n",
    "- **Dynamically Typed**: No need to define data types.\n",
    "- **Extensive Libraries**: Built-in and third-party modules.\n",
    "- **Supports OOP**: Classes, inheritance, encapsulation.\n",
    "- **Portable**: Write once, run anywhere.\n",
    "\n",
    "---\n",
    "\n",
    "## Understanding Python Syntax\n",
    "\n",
    "Python uses **indentation** instead of curly braces to define code blocks.  \n",
    "This improves readability and reduces errors.\n",
    "\n",
    "Example:\n"
   ]
  },
  {
   "cell_type": "code",
   "execution_count": 52,
   "id": "cb027fcd-1d29-4f21-8911-9075e176760b",
   "metadata": {},
   "outputs": [
    {
     "name": "stdout",
     "output_type": "stream",
     "text": [
      "x is greater than 5\n"
     ]
    }
   ],
   "source": [
    "x = 10\n",
    "if x > 5:\n",
    "    print(\"x is greater than 5\")\n"
   ]
  },
  {
   "cell_type": "markdown",
   "id": "2ca63d96-a470-4fb6-a7c7-c7e1b0ec01b1",
   "metadata": {},
   "source": [
    "# Python Keywords\n",
    "\n",
    "Python has a set of **reserved words** that cannot be used as identifiers (variable names, function names, etc.).\n",
    "\n",
    "They are used to define the syntax and structure of Python programs.\n",
    "\n",
    "### List of Python Keywords (partial list):\n"
   ]
  },
  {
   "cell_type": "markdown",
   "id": "9539dc21-21bb-4c3b-a3f9-550993f72960",
   "metadata": {},
   "source": [
    "# Python Keywords and Their Descriptions\n",
    "\n",
    "These are reserved words in Python that have predefined meanings and uses. You **cannot use them as identifiers** (variable or function names).\n",
    "\n",
    "| Keyword     | Description |\n",
    "|-------------|-------------|\n",
    "| `and`       | Logical operator used to combine conditional statements |\n",
    "| `as`        | Used to create an alias while importing a module |\n",
    "| `assert`    | Used for debugging, tests if a condition is True |\n",
    "| `break`     | Breaks out of the current closest loop |\n",
    "| `class`     | Used to define a class |\n",
    "| `continue`  | Skips the current iteration and continues with the next loop |\n",
    "| `def`       | Used to define a function |\n",
    "| `del`       | Deletes an object |\n",
    "| `elif`      | Used in conditional statements; same as \"else if\" |\n",
    "| `else`      | Executes a block if the condition is False |\n",
    "| `except`    | Catches exceptions |\n",
    "| `False`     | Boolean value representing false |\n",
    "| `finally`   | Executes code after try...except no matter what |\n",
    "| `for`       | Used to create a for loop |\n",
    "| `from`      | Used to import specific parts of a module |\n",
    "| `global`    | Declares a global variable inside a function |\n",
    "| `if`        | Used to make conditional decisions |\n",
    "| `import`    | Imports a module |\n",
    "| `in`        | Used to check if a value exists in a sequence |\n",
    "| `is`        | Tests object identity (compares memory location) |\n",
    "| `lambda`    | Creates an anonymous function |\n",
    "| `None`      | Represents a null value |\n",
    "| `nonlocal`  | Declares a non-local variable inside nested functions |\n",
    "| `not`       | Logical operator; returns True if operand is false |\n",
    "| `or`        | Logical operator; returns True if one operand is true |\n",
    "| `pass`      | A null statement; placeholder |\n",
    "| `raise`     | Raises an exception |\n",
    "| `return`    | Exits a function and returns a value |\n",
    "| `True`      | Boolean value representing true |\n",
    "| `try`       | Tries a block of code for errors |\n",
    "| `while`     | Creates a while loop |\n",
    "| `with`      | Used to wrap the execution of a block (context manager) |\n",
    "| `yield`     | Ends a function and returns a generator |\n"
   ]
  },
  {
   "cell_type": "code",
   "execution_count": 53,
   "id": "797b301e-6883-490b-8796-32b960566dd8",
   "metadata": {},
   "outputs": [
    {
     "name": "stdout",
     "output_type": "stream",
     "text": [
      "['False', 'None', 'True', 'and', 'as', 'assert', 'async', 'await', 'break', 'class', 'continue', 'def', 'del', 'elif', 'else', 'except', 'finally', 'for', 'from', 'global', 'if', 'import', 'in', 'is', 'lambda', 'nonlocal', 'not', 'or', 'pass', 'raise', 'return', 'try', 'while', 'with', 'yield']\n",
      "Total Keywords: 35\n"
     ]
    }
   ],
   "source": [
    "import keyword\n",
    "print(keyword.kwlist)\n",
    "print(\"Total Keywords:\", len(keyword.kwlist))\n"
   ]
  },
  {
   "cell_type": "markdown",
   "id": "d7ba096a-c7d7-4617-b5d0-6e534d4bba96",
   "metadata": {},
   "source": [
    "### In Python, only True, False, and None are capitalized keywords — all others are lowercase"
   ]
  },
  {
   "cell_type": "code",
   "execution_count": null,
   "id": "40cde611-b19c-43c2-b3b4-4729b7f7c689",
   "metadata": {},
   "outputs": [],
   "source": []
  },
  {
   "cell_type": "markdown",
   "id": "346048cd-925a-40a1-bbed-c6c4e75375a9",
   "metadata": {},
   "source": [
    "# Identifiers in Python\n",
    "\n",
    "In Python, an **identifier** is the name used to identify **variables**, **functions**, **classes**, **modules**, or **objects**.\n",
    "\n",
    "---\n",
    "\n",
    "## Rules for Writing Identifiers:\n",
    "\n",
    "1. Must start with a **letter (A–Z or a–z)** or an **underscore `_`**\n",
    "2. The rest of the identifier can contain **letters**, **digits (0–9)**, and **underscores**\n",
    "3. **Cannot start with a digit**\n",
    "4. **Cannot be a Python keyword**\n",
    "5. **Case-sensitive** (`Age`, `age`, and `AGE` are different)\n",
    "\n",
    "---\n",
    "\n",
    "## Valid Identifiers:\n",
    "```python\n",
    "name, student_name, _age, A1, total_marks\n"
   ]
  },
  {
   "cell_type": "markdown",
   "id": "bf0fdba0-b69f-407b-a36d-f3d7682b3291",
   "metadata": {},
   "source": [
    "## Invalid Identifiers\n",
    "##### 1name : starts with a digit\n",
    "##### student@ : contains invalid character\n",
    "##### class : keyword\n"
   ]
  },
  {
   "cell_type": "code",
   "execution_count": 56,
   "id": "f8f3b0f8-e72a-474f-9324-cefb6b9a12a1",
   "metadata": {},
   "outputs": [
    {
     "data": {
      "text/plain": [
       "'Python'"
      ]
     },
     "execution_count": 56,
     "metadata": {},
     "output_type": "execute_result"
    }
   ],
   "source": [
    "language = 'Python'\n",
    "language"
   ]
  },
  {
   "cell_type": "code",
   "execution_count": 55,
   "id": "4a406911-ad3b-4750-a4eb-78ba8e322994",
   "metadata": {},
   "outputs": [
    {
     "ename": "SyntaxError",
     "evalue": "invalid syntax (1709414160.py, line 2)",
     "output_type": "error",
     "traceback": [
      "\u001b[1;36m  Cell \u001b[1;32mIn[55], line 2\u001b[1;36m\u001b[0m\n\u001b[1;33m    continue = 'Python'\u001b[0m\n\u001b[1;37m             ^\u001b[0m\n\u001b[1;31mSyntaxError\u001b[0m\u001b[1;31m:\u001b[0m invalid syntax\n"
     ]
    }
   ],
   "source": [
    "# continue is a keyword cannot be used as identifier\n",
    "continue = 'Python'"
   ]
  },
  {
   "cell_type": "code",
   "execution_count": 57,
   "id": "9e0e5ebf-b3e6-44b5-be91-45f7c5522941",
   "metadata": {},
   "outputs": [],
   "source": [
    "# we can have _ and digits in between or end\n",
    "a_b = 13\n",
    "a_ = 14\n",
    "a1 = 15\n",
    "a1b = 16"
   ]
  },
  {
   "cell_type": "code",
   "execution_count": 58,
   "id": "e19eee4b-b900-4868-b5a0-ab679f8a026c",
   "metadata": {},
   "outputs": [],
   "source": [
    "# can have _ as the starting charactor of an identifier\n",
    "_a=10"
   ]
  },
  {
   "cell_type": "code",
   "execution_count": 62,
   "id": "1cd949b0-f5be-44d8-8adc-66e3efba279b",
   "metadata": {},
   "outputs": [
    {
     "ename": "NameError",
     "evalue": "name 'AGE' is not defined",
     "output_type": "error",
     "traceback": [
      "\u001b[1;31m---------------------------------------------------------------------------\u001b[0m",
      "\u001b[1;31mNameError\u001b[0m                                 Traceback (most recent call last)",
      "Cell \u001b[1;32mIn[62], line 2\u001b[0m\n\u001b[0;32m      1\u001b[0m Age \u001b[38;5;241m=\u001b[39m \u001b[38;5;241m22\u001b[39m\n\u001b[1;32m----> 2\u001b[0m AGE\n",
      "\u001b[1;31mNameError\u001b[0m: name 'AGE' is not defined"
     ]
    }
   ],
   "source": [
    "# Python is case sensitive Age and AGE are different\n",
    "Age = 22\n",
    "AGE"
   ]
  },
  {
   "cell_type": "markdown",
   "id": "bbdac9cc-fac7-4d81-919e-f3cb60b68db8",
   "metadata": {},
   "source": [
    "#  Variables in Python\n",
    "\n",
    "A **variable** is a name that refers to a value stored in memory.\n",
    "\n",
    "Python is **dynamically typed**, so you don’t need to declare the data type — Python infers it automatically.\n",
    "\n",
    "---\n",
    "\n",
    "## Creating Variables\n",
    "```python\n",
    "x = 10\n",
    "name = \"Vaishnavi\"\n",
    "price = 99.99\n",
    "is_valid = True\n"
   ]
  },
  {
   "cell_type": "code",
   "execution_count": 64,
   "id": "7caa4928-e9db-4dbf-bac9-fe249c725bc5",
   "metadata": {},
   "outputs": [
    {
     "data": {
      "text/plain": [
       "\"Now I'm a string\""
      ]
     },
     "execution_count": 64,
     "metadata": {},
     "output_type": "execute_result"
    }
   ],
   "source": [
    "# Reassigning Variables\n",
    "x = 10\n",
    "x = \"Now I'm a string\"  # Reassigned to a different type\n",
    "x"
   ]
  },
  {
   "cell_type": "code",
   "execution_count": null,
   "id": "681367eb-1dbb-4d15-a294-83449e13e681",
   "metadata": {},
   "outputs": [],
   "source": []
  },
  {
   "cell_type": "code",
   "execution_count": null,
   "id": "4454b010-147e-45a7-b078-289531af3cef",
   "metadata": {},
   "outputs": [],
   "source": []
  },
  {
   "cell_type": "markdown",
   "id": "53d1d2ae-cb9f-4402-9bb3-e76a89389f11",
   "metadata": {},
   "source": [
    "#  Data Types in Python\n",
    "\n",
    "Python has several built-in data types used to store different kinds of data.\n",
    "\n",
    "---\n",
    "\n",
    "##  Numeric Types\n",
    "\n",
    "| Type      | Description        | Example     |\n",
    "|-----------|--------------------|-------------|\n",
    "| `int`     | Integer values     | `10`, `-5`  |\n",
    "| `float`   | Decimal values     | `3.14`, `-7.5` |\n",
    "| `complex` | Complex numbers    | `2 + 3j`    |\n",
    "\n",
    "---\n",
    "\n",
    "##  Text Type\n",
    "\n",
    "| Type    | Description     | Example         |\n",
    "|---------|-----------------|-----------------|\n",
    "| `str`   | Text values     | `\"hello\"`, `'A'`|\n",
    "\n",
    "---\n",
    "\n",
    "##  Sequence Types\n",
    "\n",
    "| Type     | Description             | Example             |\n",
    "|----------|-------------------------|---------------------|\n",
    "| `list`   | Ordered, mutable        | `[1, 2, 3]`         |\n",
    "| `tuple`  | Ordered, immutable      | `(1, 2, 3)`         |\n",
    "| `range`  | Sequence of numbers     | `range(0, 10)`      |\n",
    "\n",
    "---\n",
    "\n",
    "##  Set Types\n",
    "\n",
    "| Type        | Description            | Example                  |\n",
    "|-------------|------------------------|--------------------------|\n",
    "| `set`       | Unordered, unique items| `{1, 2, 3}`              |\n",
    "| `frozenset` | Immutable set          | `frozenset([1, 2, 3])`   |\n",
    "\n",
    "---\n",
    "\n",
    "##  Mapping Type\n",
    "\n",
    "| Type    | Description       | Example                              |\n",
    "|---------|-------------------|--------------------------------------|\n",
    "| `dict`  | Key-value pairs   | `{\"name\": \"Vaishnavi\", \"age\": 24}`   |\n",
    "\n",
    "---\n",
    "\n",
    "##  Boolean Type\n",
    "\n",
    "| Type   | Description         | Example       |\n",
    "|--------|---------------------|---------------|\n",
    "| `bool` | True or False value | `True`, `False` |\n",
    "\n",
    "---\n",
    "\n",
    "##  None Type\n",
    "\n",
    "| Type       | Description         | Example  |\n",
    "|------------|---------------------|----------|\n",
    "| `NoneType` | Represents no value | `None`   |\n",
    "\n",
    "---\n",
    "\n"
   ]
  },
  {
   "cell_type": "markdown",
   "id": "d2962eb4-0620-49fd-8949-6fe73ccced83",
   "metadata": {},
   "source": [
    "# type() is a function which returns type of data\n",
    "\n",
    "```python\n",
    "type()\n",
    "```"
   ]
  },
  {
   "cell_type": "code",
   "execution_count": 73,
   "id": "a279d6b8-339f-4fd0-84ba-150b9727111b",
   "metadata": {},
   "outputs": [
    {
     "name": "stdout",
     "output_type": "stream",
     "text": [
      "<class 'int'>\n",
      "<class 'float'>\n",
      "<class 'str'>\n",
      "<class 'NoneType'>\n",
      "<class 'list'>\n",
      "<class 'tuple'>\n",
      "<class 'set'>\n",
      "<class 'dict'>\n",
      "<class 'bool'>\n"
     ]
    }
   ],
   "source": [
    "a=10\n",
    "b=10.8\n",
    "c=\"welcome to innomatics\"\n",
    "d= None\n",
    "e=[1,2,3,4,5]\n",
    "f=(1,2,3,4,5)\n",
    "g={1,2,3,4,5}\n",
    "h={\"name\": \"Vaishnavi\", \"age\": 24}\n",
    "i= True\n",
    "print(type(a))\n",
    "print(type(b))\n",
    "print(type(c))\n",
    "print(type(d))\n",
    "print(type(e))\n",
    "print(type(f))\n",
    "print(type(g))\n",
    "print(type(h))\n",
    "print(type(i))"
   ]
  },
  {
   "cell_type": "markdown",
   "id": "e27e4bc7-8120-4461-9740-d5390b41088e",
   "metadata": {},
   "source": [
    "#  `print()` and `input()` Functions in Python\n",
    "\n",
    "---\n",
    "\n",
    "## `print()` Function\n",
    "\n",
    "Used to display output to the screen.\n",
    "\n",
    "###  Syntax:\n",
    "```python\n",
    "print(object(s), sep=' ', end='\\n', file=sys.stdout, flush=False)\n"
   ]
  },
  {
   "cell_type": "markdown",
   "id": "058802a7-5603-43c9-95c6-61315e477af2",
   "metadata": {},
   "source": [
    "| Argument | Purpose                                       |\n",
    "| -------- | --------------------------------------------- |\n",
    "| `sep`    | Separator between multiple values             |\n",
    "| `end`    | What to print at the end (default is newline) |\n",
    "| `file`   | Where to send output (default is the screen)  |\n",
    "| `flush`  | Force write output immediately (used rarely)  |\n"
   ]
  },
  {
   "cell_type": "markdown",
   "id": "b3d015ca-ed2e-456f-9825-b264183c1d31",
   "metadata": {},
   "source": [
    "## 1. sep – Separator between values\n",
    "Default: ' ' (space)\n",
    "##### Use: Change the separator between printed items.\n"
   ]
  },
  {
   "cell_type": "code",
   "execution_count": 75,
   "id": "543374ce-7752-46f9-be4f-ddacea85754c",
   "metadata": {},
   "outputs": [
    {
     "name": "stdout",
     "output_type": "stream",
     "text": [
      "Vaishnavi-Sonar\n"
     ]
    }
   ],
   "source": [
    "print(\"Vaishnavi\", \"Sonar\", sep=\"-\")"
   ]
  },
  {
   "cell_type": "code",
   "execution_count": 77,
   "id": "4b38cd22-4b37-4c0a-9370-21402735111f",
   "metadata": {},
   "outputs": [
    {
     "name": "stdout",
     "output_type": "stream",
     "text": [
      "2025/07/22\n"
     ]
    }
   ],
   "source": [
    "print(\"2025\", \"07\", \"22\", sep=\"/\")"
   ]
  },
  {
   "cell_type": "markdown",
   "id": "17d44eed-5ed5-4446-a430-e7f67bb27904",
   "metadata": {},
   "source": [
    "# 2. end – What to print at the end\n",
    "Default: '\\n' (new line)\n",
    "##### Use: Change the ending character."
   ]
  },
  {
   "cell_type": "code",
   "execution_count": 82,
   "id": "05f1d222-bcee-41df-8a3a-0aa2561d4eb1",
   "metadata": {},
   "outputs": [
    {
     "name": "stdout",
     "output_type": "stream",
     "text": [
      "Hello World\n"
     ]
    }
   ],
   "source": [
    "print(\"Hello\", end=\" \")\n",
    "print(\"World\")"
   ]
  },
  {
   "cell_type": "code",
   "execution_count": 79,
   "id": "c13372b5-bc19-423b-b135-a38bb4e54790",
   "metadata": {},
   "outputs": [
    {
     "name": "stdout",
     "output_type": "stream",
     "text": [
      "Line1 | Line2\n"
     ]
    }
   ],
   "source": [
    "print(\"Line1\", end=\" | \")\n",
    "print(\"Line2\")\n"
   ]
  },
  {
   "cell_type": "markdown",
   "id": "c68a8a9b-dbae-422d-b471-9f93072f653d",
   "metadata": {},
   "source": [
    "# Example using sep and end together:"
   ]
  },
  {
   "cell_type": "code",
   "execution_count": 84,
   "id": "58d2d86c-510a-43e6-94c7-74fbbef71e68",
   "metadata": {},
   "outputs": [
    {
     "name": "stdout",
     "output_type": "stream",
     "text": [
      "Python*is*fun!!!\n"
     ]
    }
   ],
   "source": [
    "print(\"Python\", \"is\", \"fun\", sep=\"*\", end=\"!!!\\n\")\n"
   ]
  },
  {
   "cell_type": "markdown",
   "id": "5c25bd53-9a49-4b02-8f7e-2d6d199fda2b",
   "metadata": {},
   "source": [
    "# input() Function in Python\n"
   ]
  },
  {
   "cell_type": "markdown",
   "id": "a2075f7b-3bc5-4156-b176-258e0f7f87e3",
   "metadata": {},
   "source": [
    "## What is input()?\n",
    "#### The input() function allows user interaction by taking input from the keyboard during program execution."
   ]
  },
  {
   "cell_type": "code",
   "execution_count": 86,
   "id": "60e277f2-542d-474b-bf5b-9501c334ba54",
   "metadata": {},
   "outputs": [
    {
     "name": "stdin",
     "output_type": "stream",
     "text": [
      "Your message to the user: The function returns a string by default.\n"
     ]
    }
   ],
   "source": [
    "variable_name = input(\"Your message to the user:\")"
   ]
  },
  {
   "cell_type": "code",
   "execution_count": 87,
   "id": "89392729-bcc0-4c72-b6c5-550eeae0f05f",
   "metadata": {},
   "outputs": [
    {
     "name": "stdin",
     "output_type": "stream",
     "text": [
      "Enter your name:  Vaishnavi\n"
     ]
    },
    {
     "name": "stdout",
     "output_type": "stream",
     "text": [
      "Hello Vaishnavi\n"
     ]
    }
   ],
   "source": [
    "# Example 1: Basic Input\n",
    "name = input(\"Enter your name: \")\n",
    "print(\"Hello\", name)"
   ]
  },
  {
   "cell_type": "code",
   "execution_count": 89,
   "id": "ada1ae0a-e609-4c79-82af-e53e06c5ce94",
   "metadata": {},
   "outputs": [
    {
     "name": "stdin",
     "output_type": "stream",
     "text": [
      "Enter your age:  10\n"
     ]
    },
    {
     "ename": "TypeError",
     "evalue": "can only concatenate str (not \"int\") to str",
     "output_type": "error",
     "traceback": [
      "\u001b[1;31m---------------------------------------------------------------------------\u001b[0m",
      "\u001b[1;31mTypeError\u001b[0m                                 Traceback (most recent call last)",
      "Cell \u001b[1;32mIn[89], line 2\u001b[0m\n\u001b[0;32m      1\u001b[0m age \u001b[38;5;241m=\u001b[39m \u001b[38;5;28minput\u001b[39m(\u001b[38;5;124m\"\u001b[39m\u001b[38;5;124mEnter your age: \u001b[39m\u001b[38;5;124m\"\u001b[39m)\n\u001b[1;32m----> 2\u001b[0m \u001b[38;5;28mprint\u001b[39m(\u001b[38;5;124m\"\u001b[39m\u001b[38;5;124mYou are\u001b[39m\u001b[38;5;124m\"\u001b[39m, age\u001b[38;5;241m+\u001b[39m\u001b[38;5;241m10\u001b[39m, \u001b[38;5;124m\"\u001b[39m\u001b[38;5;124myears old.\u001b[39m\u001b[38;5;124m\"\u001b[39m)\n",
      "\u001b[1;31mTypeError\u001b[0m: can only concatenate str (not \"int\") to str"
     ]
    }
   ],
   "source": [
    "age = input(\"Enter your age: \")\n",
    "print(\"You are\", age+10, \"years old.\")"
   ]
  },
  {
   "cell_type": "code",
   "execution_count": 90,
   "id": "55d4c83c-c9ef-4530-b64b-e4ff140307fe",
   "metadata": {},
   "outputs": [
    {
     "name": "stdin",
     "output_type": "stream",
     "text": [
      "Enter your age:  10\n"
     ]
    },
    {
     "name": "stdout",
     "output_type": "stream",
     "text": [
      "You are 20 years old.\n"
     ]
    }
   ],
   "source": [
    "#Example 2: Numeric Input with int() Conversion\n",
    "age = int(input(\"Enter your age: \"))\n",
    "print(\"You are\", age+10, \"years old.\")"
   ]
  },
  {
   "cell_type": "markdown",
   "id": "97e2d9d5-81a4-4246-95c4-85d39bf2026e",
   "metadata": {},
   "source": [
    "##### Use int() or float() if you need numeric input.\n",
    "\n"
   ]
  },
  {
   "cell_type": "code",
   "execution_count": 91,
   "id": "85b6c0dc-ef64-42a2-8a32-35764ae48823",
   "metadata": {},
   "outputs": [
    {
     "name": "stdin",
     "output_type": "stream",
     "text": [
      "Enter first number:  13\n",
      "Enter second number:  14\n"
     ]
    },
    {
     "name": "stdout",
     "output_type": "stream",
     "text": [
      "Sum = 27\n"
     ]
    }
   ],
   "source": [
    "#Example 3: Input of Two Numbers (With Type Conversion)\n",
    "a = int(input(\"Enter first number: \"))\n",
    "b = int(input(\"Enter second number: \"))\n",
    "print(\"Sum =\", a + b)\n"
   ]
  },
  {
   "cell_type": "markdown",
   "id": "af2ac354-5223-4317-8353-8307b3d0bee2",
   "metadata": {},
   "source": [
    "\n",
    "\n",
    "\n",
    "---\n",
    "\n",
    "\n",
    "# Operators\n",
    ". What are operators ?\n",
    "1. Arithmatic Operators\n",
    "2. Assignment Operators\n",
    "3. Comparison Operators\n",
    "4. Logical Operators\n",
    "5. Bitwise Operators\n",
    "6. Identity Operators\n",
    "7. Membership Operators\n"
   ]
  },
  {
   "cell_type": "markdown",
   "id": "cd52b666-ce38-4ce0-9844-46916acf7a7b",
   "metadata": {},
   "source": [
    "# Arithmetic Operators\n",
    "#### Python provides several arithmetic operators for mathematical calculations:\n"
   ]
  },
  {
   "cell_type": "markdown",
   "id": "94a6e7e7-236b-4309-9d49-34907e3e344c",
   "metadata": {},
   "source": [
    "##  Arithmetic Operators\n",
    "\n",
    "| Operator | Name             | Example        | Result         |\n",
    "|----------|------------------|----------------|----------------|\n",
    "| `+`      | Addition          | `5 + 2`        | `7`            |\n",
    "| `-`      | Subtraction       | `5 - 2`        | `3`            |\n",
    "| `*`      | Multiplication    | `5 * 2`        | `10`           |\n",
    "| `/`      | Division          | `5 / 2`        | `2.5`          |\n",
    "| `//`     | Floor Division    | `5 // 2`       | `2`            |\n",
    "| `%`      | Modulus           | `5 % 2`        | `1`            |\n",
    "| `**`     | Exponentiation    | `5 ** 2`       | `25`           |\n"
   ]
  },
  {
   "cell_type": "code",
   "execution_count": 94,
   "id": "abbd7785-0c08-42df-a373-f909045fd6a5",
   "metadata": {},
   "outputs": [
    {
     "name": "stdout",
     "output_type": "stream",
     "text": [
      "Addition : 13\n",
      "Subtraction : 7\n",
      "Multiplication : 30\n",
      "Division : 3.3333333333333335\n",
      "Floor Division : 3\n",
      "Modulus : 1\n",
      "Exponentiation : 1000\n"
     ]
    }
   ],
   "source": [
    "# Examples of Arithmetic Operators\n",
    "a = 10\n",
    "b = 3\n",
    "\n",
    "print(\"Addition :\", a + b)        \n",
    "print(\"Subtraction :\", a - b)       \n",
    "print(\"Multiplication :\", a * b)    \n",
    "print(\"Division :\", a / b)          \n",
    "print(\"Floor Division :\", a // b)  \n",
    "print(\"Modulus :\", a % b)           \n",
    "print(\"Exponentiation :\", a ** b) \n"
   ]
  },
  {
   "cell_type": "code",
   "execution_count": 2,
   "id": "4c5aa4ee-8a43-4245-b0f4-e65998d7c2f1",
   "metadata": {},
   "outputs": [
    {
     "name": "stdout",
     "output_type": "stream",
     "text": [
      "19\n"
     ]
    }
   ],
   "source": [
    "x=9\n",
    "y=10\n",
    "print(x+y)"
   ]
  },
  {
   "cell_type": "code",
   "execution_count": 3,
   "id": "e27aea00-8fc0-47dd-a160-6604ad18f9a9",
   "metadata": {},
   "outputs": [
    {
     "ename": "SyntaxError",
     "evalue": "invalid syntax (3498426176.py, line 1)",
     "output_type": "error",
     "traceback": [
      "\u001b[1;36m  Cell \u001b[1;32mIn[3], line 1\u001b[1;36m\u001b[0m\n\u001b[1;33m    x=9 y= 10\u001b[0m\n\u001b[1;37m        ^\u001b[0m\n\u001b[1;31mSyntaxError\u001b[0m\u001b[1;31m:\u001b[0m invalid syntax\n"
     ]
    }
   ],
   "source": [
    "x=9 y= 10\n",
    "print(x+y)"
   ]
  },
  {
   "cell_type": "code",
   "execution_count": 4,
   "id": "c4205b73-9118-4c46-8155-907c580aa844",
   "metadata": {},
   "outputs": [
    {
     "name": "stdout",
     "output_type": "stream",
     "text": [
      "19\n"
     ]
    }
   ],
   "source": [
    "x=9;y= 10\n",
    "print(x+y)"
   ]
  },
  {
   "cell_type": "markdown",
   "id": "e7aed5e0-6300-4ed1-aea0-5de8ccbb55e0",
   "metadata": {},
   "source": [
    "## Important\n",
    "#### 1) Overall Flow of Python Program Is From top To Bottom and Left To Right Side\n",
    "#### 2) Assignment Operator has to be from right to left side\n"
   ]
  },
  {
   "cell_type": "markdown",
   "id": "295b1d07-cf8d-4f8e-9e4c-55676adbb92b",
   "metadata": {},
   "source": [
    "# Examples of Assignment Operators\n",
    "### Assignment operators are used to assign values to variables:\n",
    "\n"
   ]
  },
  {
   "cell_type": "markdown",
   "id": "1894d64b-f2b1-434d-92fe-626a4d259bfd",
   "metadata": {},
   "source": [
    "##  Assignment Operators\n",
    "\n",
    "| Operator | Example     | Equivalent To   |\n",
    "|----------|-------------|-----------------|\n",
    "| `=`      | `x = 5`     | Assign 5 to x   |\n",
    "| `+=`     | `x += 5`    | `x = x + 5`     |\n",
    "| `-=`     | `x -= 5`    | `x = x - 5`     |\n",
    "| `*=`     | `x *= 5`    | `x = x * 5`     |\n",
    "| `/=`     | `x /= 5`    | `x = x / 5`     |\n",
    "| `//=`    | `x //= 5`   | `x = x // 5`    |\n",
    "| `%=`     | `x %= 5`    | `x = x % 5`     |\n",
    "| `**=`    | `x **= 2`   | `x = x ** 2`    |\n",
    "| `&=`     | `x &= 3`    | `x = x & 3`     |\n",
    "| `|=`     | `x |= 3`    | `x = x | 3`     |\n",
    "| `^=`     | `x ^= 3`    | `x = x ^ 3`     |\n",
    "| `>>=`    | `x >>= 1`   | `x = x >> 1`    |\n",
    "| `<<=`    | `x <<= 1`   | `x = x << 1`    |"
   ]
  },
  {
   "cell_type": "markdown",
   "id": "741512a3-611c-4ba9-a69d-7780e9e73710",
   "metadata": {},
   "source": [
    "#### .... Assignment  =\n",
    "#### .... Add and assign +=\n",
    "#### .... Substract and assign -=\n",
    "#### .... Multiply and assign *=\n",
    "#### .... Divison  and assign /=\n",
    "#### .... Floor Division and assign //=\n",
    "#### .... Modulus And Assign %=\n",
    "#### ....  Exponent and assign"
   ]
  },
  {
   "cell_type": "code",
   "execution_count": 5,
   "id": "5ff22320-b03c-49d5-94e5-c18fa7bda6d4",
   "metadata": {},
   "outputs": [
    {
     "name": "stdout",
     "output_type": "stream",
     "text": [
      "Initial x = 10\n",
      "x += 3:  13\n",
      "x -= 2:  11\n",
      "x *= 4:  44\n",
      "x /= 2:  22.0\n",
      "x //= 3:  7.0\n",
      "x %= 2:  1.0\n",
      "x **= 2:  25\n",
      "8\n",
      "16\n",
      "512\n"
     ]
    }
   ],
   "source": [
    "# Assignment examples\n",
    "x = 10\n",
    "print(\"Initial x =\", x)\n",
    "x += 3\n",
    "print(\"x += 3: \", x)\n",
    "x -= 2\n",
    "print(\"x -= 2: \", x)\n",
    "x *= 4\n",
    "print(\"x *= 4: \", x)\n",
    "x /= 2\n",
    "print(\"x /= 2: \", x)\n",
    "x //= 3\n",
    "print(\"x //= 3: \", x)\n",
    "x %= 2\n",
    "print(\"x %= 2: \", x)\n",
    "x = 5\n",
    "x **= 2\n",
    "print(\"x **= 2: \", x)\n",
    "#........Exponentiation.......\n",
    "print(2**3)\n",
    "print(4**2)\n",
    "print(2**3**2)  \n",
    "# from right to left  forst calcualte 3**2 = 9,\n",
    "# calculate final exponent 2**9 = 512\n",
    "# Example here for right Associativity of exponent\n"
   ]
  },
  {
   "cell_type": "markdown",
   "id": "8df74167-b443-4626-a31b-91375d29f998",
   "metadata": {},
   "source": [
    "# Comparision Operators\n",
    "\n",
    "### Comparison (or relational) operators compare two values and return a Boolean result (True or False):\n"
   ]
  },
  {
   "cell_type": "markdown",
   "id": "ef1b3794-521e-4d55-a74a-b052963b540d",
   "metadata": {},
   "source": [
    "##  Comparison Operators\n",
    "\n",
    "| Operator | Name             | Example        | Result         |\n",
    "|----------|------------------|----------------|----------------|\n",
    "| `==`     | Equal to          | `5 == 2`       | `False`        |\n",
    "| `!=`     | Not equal to      | `5 != 2`       | `True`         |\n",
    "| `>`      | Greater than      | `5 > 2`        | `True`         |\n",
    "| `<`      | Less than         | `5 < 2`        | `False`        |\n",
    "| `>=`     | Greater or equal  | `5 >= 2`       | `True`         |\n",
    "| `<=`     | Less or equal     | `5 <= 2`       | `False`        |"
   ]
  },
  {
   "cell_type": "code",
   "execution_count": 101,
   "id": "5108050c-0b46-4b03-a95c-e6a7c1fc6efd",
   "metadata": {},
   "outputs": [
    {
     "name": "stdout",
     "output_type": "stream",
     "text": [
      "a == b: False\n",
      "a != b: True\n",
      "a > b: False\n",
      "a < b: True\n",
      "a >= b: False\n",
      "a <= b: True\n"
     ]
    }
   ],
   "source": [
    "# Examples of Comparision Operators\n",
    "\n",
    "a = 10\n",
    "b = 20\n",
    "\n",
    "print(\"a == b:\", a == b)\n",
    "print(\"a != b:\", a != b)\n",
    "print(\"a > b:\", a > b)\n",
    "print(\"a < b:\", a < b)\n",
    "print(\"a >= b:\", a >= b)\n",
    "print(\"a <= b:\", a <= b)\n"
   ]
  },
  {
   "cell_type": "code",
   "execution_count": 15,
   "id": "3dc43a26-0f66-4bed-ac78-10563fa2d293",
   "metadata": {},
   "outputs": [
    {
     "name": "stdout",
     "output_type": "stream",
     "text": [
      "Welcome To The World\n",
      "ODD\n"
     ]
    }
   ],
   "source": [
    "# Practical Example\n",
    "username = \"Vaishnav_mtvs\"\n",
    "actual_password  = \"vs1234\"\n",
    "entered_password = \"vs1234\"\n",
    "if(actual_password == entered_password):\n",
    "    print(\"Welcome To The World\")\n",
    "else:\n",
    "    print(\"Try again\")\n",
    "# Not Equal to\n",
    "num = 9\n",
    "if(num % 2 != 0):\n",
    "    print(\"ODD\")\n",
    "else:\n",
    "    print(\"EVEN\")"
   ]
  },
  {
   "cell_type": "markdown",
   "id": "13b3ced8-9472-4cee-809f-fa0d7dd9acf4",
   "metadata": {},
   "source": [
    "#  Logical Operators\n",
    "\n",
    "## Logical operators are used to combine conditional statements. They return Boolean values (`True` or `False`).\n",
    "\n",
    "\n"
   ]
  },
  {
   "cell_type": "markdown",
   "id": "18dfc7ee-02f4-4b4a-a65b-8c629465a1e6",
   "metadata": {},
   "source": [
    "| Operator | Description                                      | Example                 |\n",
    "| -------- | ------------------------------------------------ | ----------------------- |\n",
    "| `and`    | Returns `True` if **both** statements are true   | `x > 5 and x < 10`      |\n",
    "| `or`     | Returns `True` if **any one** statement is true  | `x > 5 or x < 3`        |\n",
    "| `not`    | Reverses the result (True → False, False → True) | `not(x > 5 and x < 10)` |\n"
   ]
  },
  {
   "cell_type": "code",
   "execution_count": 103,
   "id": "6257d763-7379-4a44-a2fe-600531290491",
   "metadata": {},
   "outputs": [
    {
     "name": "stdout",
     "output_type": "stream",
     "text": [
      "True\n",
      "False\n",
      "True\n",
      "False\n",
      "False\n",
      "True\n"
     ]
    }
   ],
   "source": [
    "# Examples of Logical Operators\n",
    "\n",
    "x = 5\n",
    "y = 10\n",
    "\n",
    "# and\n",
    "print(x > 3 and y < 15)    \n",
    "print(x > 6 and y < 15)   \n",
    "\n",
    "# or\n",
    "print(x > 6 or y < 15)     \n",
    "print(x > 6 or y > 15)     \n",
    "\n",
    "# not\n",
    "print(not(x > 3))          \n",
    "print(not(y > 15))        \n"
   ]
  },
  {
   "cell_type": "code",
   "execution_count": 19,
   "id": "81f3e499-a91c-4512-839c-f8f9ae05634c",
   "metadata": {},
   "outputs": [
    {
     "data": {
      "text/plain": [
       "False"
      ]
     },
     "execution_count": 19,
     "metadata": {},
     "output_type": "execute_result"
    }
   ],
   "source": [
    "True and False"
   ]
  },
  {
   "cell_type": "code",
   "execution_count": 20,
   "id": "f8462760-c844-4eec-bb3b-d3aad10dad4e",
   "metadata": {},
   "outputs": [
    {
     "data": {
      "text/plain": [
       "True"
      ]
     },
     "execution_count": 20,
     "metadata": {},
     "output_type": "execute_result"
    }
   ],
   "source": [
    "True or False"
   ]
  },
  {
   "cell_type": "code",
   "execution_count": 21,
   "id": "2d3de5c6-b782-4731-b888-f8b5e18e5946",
   "metadata": {},
   "outputs": [
    {
     "data": {
      "text/plain": [
       "False"
      ]
     },
     "execution_count": 21,
     "metadata": {},
     "output_type": "execute_result"
    }
   ],
   "source": [
    "not True"
   ]
  },
  {
   "cell_type": "markdown",
   "id": "a9c531a9-a533-4568-b1d2-47e4fc02193f",
   "metadata": {},
   "source": [
    "# Bitwise Operators\n",
    "## Bitwise operators perform operations on the binary representations of integers.\n",
    "\n",
    "| Operator | Name         | Example   | Result    |\n",
    "|----------|--------------|-----------|-----------|\n",
    "| `&`      | AND          | `5 & 3`   | `1`       |\n",
    "| `|`      | OR           | `5 | 3`   | `7`       |\n",
    "| `^`      | XOR          | `5 ^ 3`   | `6`       |\n",
    "| `~`      | NOT          | `~5`      | `-6`      |\n",
    "| `<<`     | Left Shift   | `5 << 1`  | `10`      |\n",
    "| `>>`     | Right Shift  | `5 >> 1`  | `2`       |\n"
   ]
  },
  {
   "cell_type": "code",
   "execution_count": 22,
   "id": "24d99e86-7b2e-43dc-b741-6d94fbe2cf74",
   "metadata": {},
   "outputs": [
    {
     "name": "stdout",
     "output_type": "stream",
     "text": [
      "5 & 3 = 1\n",
      "5 | 3 = 7\n",
      "5 ^ 3 = 6\n",
      "~5 = -6\n",
      "5 << 1 = 10\n",
      "5 >> 1 = 2\n"
     ]
    }
   ],
   "source": [
    "# Bitwise AND\n",
    "print(\"5 & 3 =\", 5 & 3)    # 0101 & 0011 => 0001 => 1\n",
    "\n",
    "# Bitwise OR\n",
    "print(\"5 | 3 =\", 5 | 3)    # 0101 | 0011 => 0111 => 7\n",
    "\n",
    "# Bitwise XOR\n",
    "print(\"5 ^ 3 =\", 5 ^ 3)    # 0101 ^ 0011 => 0110 => 6\n",
    "\n",
    "# Bitwise NOT\n",
    "print(\"~5 =\", ~5)          # ~00000101 => 11111010 => -6\n",
    "\n",
    "# Left Shift\n",
    "print(\"5 << 1 =\", 5 << 1)  # 00000101 << 1 => 00001010 => 10\n",
    "\n",
    "# Right Shift\n",
    "print(\"5 >> 1 =\", 5 >> 1)  # 00000101 >> 1 => 00000010 => 2\n",
    "\n"
   ]
  },
  {
   "cell_type": "markdown",
   "id": "c2f5d9c2-e48a-4ddc-a7d1-d6b17576a6e7",
   "metadata": {},
   "source": [
    "# 1. & (AND)\n",
    "### Description: Bit is 1 only if both bits are 1.\n",
    "\n",
    "#### Example:\n",
    "5 & 3\n",
    "→ 0101 & 0011 = 0001\n",
    "→ Result: 1"
   ]
  },
  {
   "cell_type": "code",
   "execution_count": 29,
   "id": "3c0ad564-ba23-42a5-8c05-ba2a4e2504e7",
   "metadata": {},
   "outputs": [
    {
     "data": {
      "text/plain": [
       "1"
      ]
     },
     "execution_count": 29,
     "metadata": {},
     "output_type": "execute_result"
    }
   ],
   "source": [
    "5 & 3"
   ]
  },
  {
   "cell_type": "markdown",
   "id": "65edc084-75f6-4842-94ec-61490805b5ed",
   "metadata": {},
   "source": [
    "# 2. | (OR)\n",
    "### Description: Bit is 1 if any one bit is 1.\n",
    "\n",
    "#### Example:\n",
    "5 | 3\n",
    "→ 0101 | 0011 = 0111\n",
    "→ Result: 7\n"
   ]
  },
  {
   "cell_type": "code",
   "execution_count": 24,
   "id": "0eff262b-93a0-4957-be1d-00334127064d",
   "metadata": {},
   "outputs": [
    {
     "data": {
      "text/plain": [
       "7"
      ]
     },
     "execution_count": 24,
     "metadata": {},
     "output_type": "execute_result"
    }
   ],
   "source": [
    "5 | 3\n"
   ]
  },
  {
   "cell_type": "markdown",
   "id": "b5ad5932-9529-4043-af2a-8917667c39f9",
   "metadata": {},
   "source": [
    "# 3. ^ (XOR)\n",
    "### Description: Bit is 1 if only one of the bits is 1.\n",
    "\n",
    "#### Example:\n",
    "5 ^ 3\n",
    "→ 0101 ^ 0011 = 0110\n",
    "→ Result: 6"
   ]
  },
  {
   "cell_type": "code",
   "execution_count": 25,
   "id": "eb9fb726-af0c-44ae-bee2-181dfe8cbf22",
   "metadata": {},
   "outputs": [
    {
     "data": {
      "text/plain": [
       "6"
      ]
     },
     "execution_count": 25,
     "metadata": {},
     "output_type": "execute_result"
    }
   ],
   "source": [
    "5 ^ 3\n"
   ]
  },
  {
   "cell_type": "markdown",
   "id": "f8550e20-ccf5-4fc3-8315-7cef4c3fa052",
   "metadata": {},
   "source": [
    "# 4. ~ (NOT)\n",
    "### Description: Inverts all bits; gives -(n + 1) due to 2's complement.\n",
    "\n",
    "#### Example:\n",
    "~5\n",
    "→ -(5 + 1)\n",
    "→ Result: -6\n"
   ]
  },
  {
   "cell_type": "code",
   "execution_count": 26,
   "id": "63bb7816-b59e-477a-b168-fb7a1899f2c2",
   "metadata": {},
   "outputs": [
    {
     "data": {
      "text/plain": [
       "-6"
      ]
     },
     "execution_count": 26,
     "metadata": {},
     "output_type": "execute_result"
    }
   ],
   "source": [
    "~5"
   ]
  },
  {
   "cell_type": "markdown",
   "id": "dba4b914-d618-4c89-94d6-a222948ec834",
   "metadata": {},
   "source": [
    "# 5. << (Left Shift)\n",
    "### Description: Shifts bits to the left, adding 0 on the right.\n",
    "\n",
    "#### Example:\n",
    "5 << 1\n",
    "→ 0101 becomes 1010\n",
    "→ Result: 10"
   ]
  },
  {
   "cell_type": "code",
   "execution_count": 27,
   "id": "d08bf9fb-cf5f-461b-b3a9-493eb77b93f1",
   "metadata": {},
   "outputs": [
    {
     "data": {
      "text/plain": [
       "10"
      ]
     },
     "execution_count": 27,
     "metadata": {},
     "output_type": "execute_result"
    }
   ],
   "source": [
    "5 << 1"
   ]
  },
  {
   "cell_type": "markdown",
   "id": "485b1ea8-d180-4d08-b0b8-8fa35fcbc4b8",
   "metadata": {},
   "source": [
    "# 6. >> (Right Shift)\n",
    "### Description: Shifts bits to the right, dropping rightmost bits.\n",
    "\n",
    "#### Example:\n",
    "5 >> 1\n",
    "→ 0101 becomes 0010\n",
    "→ Result: 2"
   ]
  },
  {
   "cell_type": "code",
   "execution_count": 28,
   "id": "3c8908dc-c097-4f53-b078-a9dfa0bd3202",
   "metadata": {},
   "outputs": [
    {
     "data": {
      "text/plain": [
       "2"
      ]
     },
     "execution_count": 28,
     "metadata": {},
     "output_type": "execute_result"
    }
   ],
   "source": [
    "5 >> 1"
   ]
  },
  {
   "cell_type": "markdown",
   "id": "5bf0b658-ea64-4acc-a45a-39e7473d1211",
   "metadata": {},
   "source": [
    "# Identity Operators\n",
    "### Identity operators are used to compare the memory location of two objects, i.e., whether they refer to the same object in memory (not just the same value).\n",
    "\n",
    "\n",
    "| Operator | Description               | Example         |\n",
    "|----------|---------------------------|-----------------|\n",
    "| `is`     | True if same object       | `x is y`        |\n",
    "| `is not` | True if not same object   | `x is not y`    |\n",
    "\n",
    "---"
   ]
  },
  {
   "cell_type": "code",
   "execution_count": 30,
   "id": "01f38f66-d966-4142-86c8-bbaae1757d39",
   "metadata": {},
   "outputs": [
    {
     "name": "stdout",
     "output_type": "stream",
     "text": [
      "True\n",
      "False\n",
      "True\n",
      "True\n"
     ]
    }
   ],
   "source": [
    "x = [1, 2, 3]\n",
    "y = x\n",
    "z = [1, 2, 3]\n",
    "\n",
    "print(x is y)      # True, because x and y refer to the same list object\n",
    "print(x is z)      # False, x and z have the same content but are different objects\n",
    "print(x == z)      # True, content is the same\n",
    "print(x is not z)  # True, because they are different objects\n"
   ]
  },
  {
   "cell_type": "markdown",
   "id": "12bc3883-3678-46c6-9dce-700a78a31d68",
   "metadata": {},
   "source": [
    "##### is: checks for object identity (same memory).\n",
    "\n",
    "##### ==: checks for value equality (same data).\n",
    "\n",
    "\n"
   ]
  },
  {
   "cell_type": "markdown",
   "id": "4c523bda-85b1-4f49-9448-8754e6a6a82f",
   "metadata": {},
   "source": [
    "# Membership Operators\n",
    "### Membership operators are used to test whether a value or variable is found in a sequence (like a string, list, tuple, set, or dictionary).\n",
    "| Operator | Description                        | Example            |\n",
    "|----------|------------------------------------|--------------------|\n",
    "| `in`     | True if value exists in a sequence | `'a' in 'apple'`   |\n",
    "| `not in` | True if value doesn't exist        | `'x' not in 'cat'` |\n"
   ]
  },
  {
   "cell_type": "code",
   "execution_count": 32,
   "id": "4e22deac-242e-4c4a-86a9-4186646fbd7c",
   "metadata": {},
   "outputs": [
    {
     "name": "stdout",
     "output_type": "stream",
     "text": [
      "True\n",
      "False\n",
      "False\n"
     ]
    }
   ],
   "source": [
    "# Using in with a string\n",
    "word = \"Innomatics\"\n",
    "print('I' in word)      # True\n",
    "print('O' in word)      # False\n",
    "print('p' in word)      # False"
   ]
  },
  {
   "cell_type": "code",
   "execution_count": 38,
   "id": "cba6d7b2-9a70-4a6c-abf3-88518bff0c27",
   "metadata": {},
   "outputs": [
    {
     "name": "stdout",
     "output_type": "stream",
     "text": [
      "False\n",
      "True\n"
     ]
    }
   ],
   "source": [
    "# Using not in with a list\n",
    "fruits = ['apple', 'banana', 'cherry']\n",
    "print('apple' not in fruits)   # False\n",
    "print('mango' not in fruits)   # True\n"
   ]
  },
  {
   "cell_type": "code",
   "execution_count": 39,
   "id": "326dccba-4de4-4dc0-af4e-d8b254ce1c8d",
   "metadata": {},
   "outputs": [
    {
     "name": "stdout",
     "output_type": "stream",
     "text": [
      "True\n",
      "False\n"
     ]
    }
   ],
   "source": [
    "# Using in with a dictionary (checks keys)\n",
    "# in operator checks only keys in a dictionary, not values.\n",
    "student = {'name': 'Vaishnavi', 'age': 22}\n",
    "print('name' in student)      # True\n",
    "print('Vaishnavi' in student) # False"
   ]
  },
  {
   "cell_type": "code",
   "execution_count": null,
   "id": "c2aabe31-cc1d-4a62-b327-e003c449d16b",
   "metadata": {},
   "outputs": [],
   "source": []
  },
  {
   "cell_type": "code",
   "execution_count": null,
   "id": "871b8376-d16d-4ffa-878c-4e2f70064063",
   "metadata": {},
   "outputs": [],
   "source": []
  },
  {
   "cell_type": "code",
   "execution_count": null,
   "id": "52df1ec7-a850-45d4-924d-a84e9174cd8c",
   "metadata": {},
   "outputs": [],
   "source": []
  },
  {
   "cell_type": "code",
   "execution_count": null,
   "id": "57107d76-ebdd-424d-813b-368b715cf33e",
   "metadata": {},
   "outputs": [],
   "source": []
  },
  {
   "cell_type": "code",
   "execution_count": null,
   "id": "c6d4ac6b-ac87-479b-9d24-b6e294721f57",
   "metadata": {},
   "outputs": [],
   "source": []
  },
  {
   "cell_type": "code",
   "execution_count": null,
   "id": "6a16c8d3-33c4-4be3-b36b-3529e73b10e0",
   "metadata": {},
   "outputs": [],
   "source": []
  },
  {
   "cell_type": "code",
   "execution_count": null,
   "id": "06f9f59a-5a3a-4104-9f22-e7c1bf9fccad",
   "metadata": {},
   "outputs": [],
   "source": []
  }
 ],
 "metadata": {
  "kernelspec": {
   "display_name": "Python 3 (ipykernel)",
   "language": "python",
   "name": "python3"
  },
  "language_info": {
   "codemirror_mode": {
    "name": "ipython",
    "version": 3
   },
   "file_extension": ".py",
   "mimetype": "text/x-python",
   "name": "python",
   "nbconvert_exporter": "python",
   "pygments_lexer": "ipython3",
   "version": "3.12.7"
  }
 },
 "nbformat": 4,
 "nbformat_minor": 5
}
